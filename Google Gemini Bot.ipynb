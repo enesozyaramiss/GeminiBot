{
 "cells": [
  {
   "cell_type": "code",
   "execution_count": null,
   "id": "ad7fffdc",
   "metadata": {},
   "outputs": [],
   "source": [
    "import os\n",
    "import google.generativeai as genai\n",
    "\n",
    "# Configure your API key\n",
    "genai.configure(api_key=\"key\")\n",
    "\n",
    "# Set up the model\n",
    "generation_config = {\n",
    "    \"temperature\": 1,\n",
    "    \"top_p\": 0.95,\n",
    "    \"top_k\": 64,\n",
    "    \"max_output_tokens\": 8192,\n",
    "    \"response_mime_type\": \"text/plain\",\n",
    "}\n",
    "\n",
    "model = genai.GenerativeModel(\n",
    "    model_name=\"gemini-1.5-flash\",\n",
    "    generation_config=generation_config,\n",
    "    # You can adjust safety settings here\n",
    "    # https://ai.google.dev/gemini-api/docs/safety-settings\n",
    ")\n",
    "\n",
    "# Start a new chat session\n",
    "chat_session = model.start_chat(\n",
    "    history=[]\n",
    ")\n",
    "\n",
    "while True:\n",
    "    user_input = input(\"You: \")\n",
    "    if user_input.lower() in ['exit', 'quit']:\n",
    "        print('Exiting chat')\n",
    "        break\n",
    "\n",
    "    # Send message and get response\n",
    "    response = chat_session.send_message(user_input)\n",
    "\n",
    "    # Print the response\n",
    "    print(f\"Bot: {response.text}\")  # Correctly print the response  # 'response.text' is used instead of 'response['text']'\n"
   ]
  }
 ],
 "metadata": {
  "kernelspec": {
   "display_name": "Python 3 (ipykernel)",
   "language": "python",
   "name": "python3"
  },
  "language_info": {
   "codemirror_mode": {
    "name": "ipython",
    "version": 3
   },
   "file_extension": ".py",
   "mimetype": "text/x-python",
   "name": "python",
   "nbconvert_exporter": "python",
   "pygments_lexer": "ipython3",
   "version": "3.10.0"
  }
 },
 "nbformat": 4,
 "nbformat_minor": 5
}
